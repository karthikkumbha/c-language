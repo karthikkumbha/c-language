{
  "nbformat": 4,
  "nbformat_minor": 0,
  "metadata": {
    "colab": {
      "name": "quiz 1 .ipynb",
      "provenance": [],
      "authorship_tag": "ABX9TyNb4iHwCE6TXjgqP2DNeef9",
      "include_colab_link": true
    },
    "kernelspec": {
      "name": "python3",
      "display_name": "Python 3"
    },
    "language_info": {
      "name": "python"
    }
  },
  "cells": [
    {
      "cell_type": "markdown",
      "metadata": {
        "id": "view-in-github",
        "colab_type": "text"
      },
      "source": [
        "<a href=\"https://colab.research.google.com/github/karthikkumbha/c-language/blob/main/quiz_1_.ipynb\" target=\"_parent\"><img src=\"https://colab.research.google.com/assets/colab-badge.svg\" alt=\"Open In Colab\"/></a>"
      ]
    },
    {
      "cell_type": "code",
      "execution_count": null,
      "metadata": {
        "id": "h79ieximsC1P"
      },
      "outputs": [],
      "source": [
        ""
      ]
    },
    {
      "cell_type": "markdown",
      "source": [
        "1.Find out the square root of the number"
      ],
      "metadata": {
        "id": "5aub5r-csJHl"
      }
    },
    {
      "cell_type": "code",
      "source": [
        "a=4\n",
        "b=a**1/2\n",
        "print (b)"
      ],
      "metadata": {
        "colab": {
          "base_uri": "https://localhost:8080/"
        },
        "id": "hm5S3QzHsJ18",
        "outputId": "7d4a6402-7763-4709-b70e-443470605b15"
      },
      "execution_count": 2,
      "outputs": [
        {
          "output_type": "stream",
          "name": "stdout",
          "text": [
            "2.0\n"
          ]
        }
      ]
    },
    {
      "cell_type": "markdown",
      "source": [
        "2.Write a program of swapping of two numbers "
      ],
      "metadata": {
        "id": "VytgErnvsV7W"
      }
    },
    {
      "cell_type": "code",
      "source": [
        "a=2\n",
        "b=3\n",
        "c=a+b\n",
        "a=c-a\n",
        "b=c-b\n",
        "print(\"Result =\", a,b)"
      ],
      "metadata": {
        "colab": {
          "base_uri": "https://localhost:8080/"
        },
        "id": "CCJaWhHHsVED",
        "outputId": "b68cf74a-7052-4e76-952b-04b352a48711"
      },
      "execution_count": 4,
      "outputs": [
        {
          "output_type": "stream",
          "name": "stdout",
          "text": [
            "Result = 3 2\n"
          ]
        }
      ]
    },
    {
      "cell_type": "markdown",
      "source": [
        ""
      ],
      "metadata": {
        "id": "ZcArI_H_si_R"
      }
    },
    {
      "cell_type": "markdown",
      "source": [
        "3.Find out the Largest of three numbers from the give input"
      ],
      "metadata": {
        "id": "XMlxuMlEssiU"
      }
    },
    {
      "cell_type": "code",
      "source": [
        "a=5\n",
        "b=3\n",
        "c=2\n",
        "if a>b and a>c:\n",
        "    print(\"5\")\n",
        "elif b>a and b>c:\n",
        "    print(\"3\")\n",
        "else:\n",
        "    print(\"2\")\n"
      ],
      "metadata": {
        "colab": {
          "base_uri": "https://localhost:8080/"
        },
        "id": "MYWeGT8DstJL",
        "outputId": "db78e278-3db0-4a12-d2de-2892ac7eb237"
      },
      "execution_count": 8,
      "outputs": [
        {
          "output_type": "stream",
          "name": "stdout",
          "text": [
            "5\n"
          ]
        }
      ]
    },
    {
      "cell_type": "markdown",
      "source": [
        "4.Add Black color to the given list in the 4th place.\n",
        "\n",
        " Rainbow = ['Red', 'Orange', 'Yellow', 'Green'] "
      ],
      "metadata": {
        "id": "aW_-YSYms05H"
      }
    },
    {
      "cell_type": "code",
      "source": [
        "Rainbow = ['Red','Orange','Yellow','Green'] \n",
        "Rainbow.insert(3,'Black')\n",
        "print(Rainbow)"
      ],
      "metadata": {
        "colab": {
          "base_uri": "https://localhost:8080/"
        },
        "id": "SOJDhND1sxCH",
        "outputId": "e5cb0b4d-a365-4ab6-e880-5b23184c6bcd"
      },
      "execution_count": 9,
      "outputs": [
        {
          "output_type": "stream",
          "name": "stdout",
          "text": [
            "['Red', 'Orange', 'Yellow', 'Black', 'Green']\n"
          ]
        }
      ]
    }
  ]
}