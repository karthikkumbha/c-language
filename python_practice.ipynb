{
  "nbformat": 4,
  "nbformat_minor": 0,
  "metadata": {
    "colab": {
      "name": "python practice.ipynb",
      "provenance": [],
      "collapsed_sections": [],
      "authorship_tag": "ABX9TyPJTAv32Kqa4EM6vQr7F8ja",
      "include_colab_link": true
    },
    "kernelspec": {
      "name": "python3",
      "display_name": "Python 3"
    },
    "language_info": {
      "name": "python"
    }
  },
  "cells": [
    {
      "cell_type": "markdown",
      "metadata": {
        "id": "view-in-github",
        "colab_type": "text"
      },
      "source": [
        "<a href=\"https://colab.research.google.com/github/karthikkumbha/c-language/blob/main/python_practice.ipynb\" target=\"_parent\"><img src=\"https://colab.research.google.com/assets/colab-badge.svg\" alt=\"Open In Colab\"/></a>"
      ]
    },
    {
      "cell_type": "code",
      "source": [
        "a=10\n",
        "b=20\n",
        "c=(a+b)/2\n",
        "print(c)\n",
        "print"
      ],
      "metadata": {
        "colab": {
          "base_uri": "https://localhost:8080/"
        },
        "id": "F1FcQyXrFBia",
        "outputId": "ce7c39d6-7f83-4e25-cf5a-26acec6b346c"
      },
      "execution_count": 4,
      "outputs": [
        {
          "output_type": "stream",
          "name": "stdout",
          "text": [
            "15.0\n"
          ]
        },
        {
          "output_type": "execute_result",
          "data": {
            "text/plain": [
              "<function print>"
            ]
          },
          "metadata": {},
          "execution_count": 4
        }
      ]
    },
    {
      "cell_type": "code",
      "source": [
        "# converting int to string,float,boolean,complex \n",
        "a=10\n",
        "print(type(a))\n",
        "print(a)\n",
        "#before conversion\n",
        "b=str(a)\n",
        "print(type(b))\n",
        "print(b)\n",
        "#after conversion\n",
        "c=float(a)\n",
        "print(type(c))\n",
        "print(c)\n",
        "d=bool(a)\n",
        "print(d)\n",
        "print(type(d))\n",
        "e=complex(a)\n",
        "print(e)\n",
        "print(type(e))"
      ],
      "metadata": {
        "colab": {
          "base_uri": "https://localhost:8080/"
        },
        "id": "c_b_iS5VFT6p",
        "outputId": "45f47ae2-3a53-472f-810f-f525f779498c"
      },
      "execution_count": 6,
      "outputs": [
        {
          "output_type": "stream",
          "name": "stdout",
          "text": [
            "<class 'int'>\n",
            "10\n",
            "<class 'str'>\n",
            "10\n",
            "<class 'float'>\n",
            "10.0\n",
            "True\n",
            "<class 'bool'>\n",
            "(10+0j)\n",
            "<class 'complex'>\n"
          ]
        }
      ]
    },
    {
      "cell_type": "code",
      "source": [
        "# converting string to int , float , bollean ,complex\n",
        "a=10\n",
        "print(type(a))\n",
        "print(a)\n",
        "#before conversion\n",
        "b=int(a)\n",
        "print(type(b))\n",
        "print(b)\n",
        "#after conversion\n",
        "c=float(a)\n",
        "print(type(c))\n",
        "print(c)\n",
        "d=bool(a)\n",
        "print(d)\n",
        "print(type(d))\n",
        "e=complex(a)\n",
        "print(e)\n",
        "print(type(e))"
      ],
      "metadata": {
        "colab": {
          "base_uri": "https://localhost:8080/"
        },
        "id": "RmKcv7RyFhS2",
        "outputId": "41774cf9-ed36-4c89-fc54-e357ce6adc2e"
      },
      "execution_count": 7,
      "outputs": [
        {
          "output_type": "stream",
          "name": "stdout",
          "text": [
            "<class 'int'>\n",
            "10\n",
            "<class 'int'>\n",
            "10\n",
            "<class 'float'>\n",
            "10.0\n",
            "True\n",
            "<class 'bool'>\n",
            "(10+0j)\n",
            "<class 'complex'>\n"
          ]
        }
      ]
    },
    {
      "cell_type": "code",
      "source": [
        "# converting boolean to int , string , float ,complex\n",
        "a=10\n",
        "print(type(a))\n",
        "print(a)\n",
        "#before conversion\n",
        "b=int(a)\n",
        "print(type(b))\n",
        "print(b)\n",
        "#after conversion\n",
        "c=str(a)\n",
        "print(type(c))\n",
        "print(c)\n",
        "d=float(a)\n",
        "print(d)\n",
        "print(type(d))\n",
        "e=complex(a)\n",
        "print(e)\n",
        "print(type(e))"
      ],
      "metadata": {
        "colab": {
          "base_uri": "https://localhost:8080/"
        },
        "id": "8KQGIIZtF5R9",
        "outputId": "0365b7b5-a93e-4766-e4ab-10dae37a183a"
      },
      "execution_count": 8,
      "outputs": [
        {
          "output_type": "stream",
          "name": "stdout",
          "text": [
            "<class 'int'>\n",
            "10\n",
            "<class 'int'>\n",
            "10\n",
            "<class 'str'>\n",
            "10\n",
            "10.0\n",
            "<class 'float'>\n",
            "(10+0j)\n",
            "<class 'complex'>\n"
          ]
        }
      ]
    },
    {
      "cell_type": "code",
      "source": [
        ""
      ],
      "metadata": {
        "id": "q1hglTW8GGy1"
      },
      "execution_count": null,
      "outputs": []
    },
    {
      "cell_type": "markdown",
      "source": [
        ""
      ],
      "metadata": {
        "id": "14xzzQazGUEQ"
      }
    }
  ]
}